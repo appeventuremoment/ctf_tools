{
 "cells": [
  {
   "cell_type": "code",
   "execution_count": 5,
   "metadata": {},
   "outputs": [
    {
     "name": "stdout",
     "output_type": "stream",
     "text": [
      "['YI6HGWQ', 'YI6HGWq', 'YI6HGwQ', 'YI6HGwq', 'YI6HgWQ', 'YI6HgWq', 'YI6HgwQ', 'YI6Hgwq', 'YI6hGWQ', 'YI6hGWq', 'YI6hGwQ', 'YI6hGwq', 'YI6hgWQ', 'YI6hgWq', 'YI6hgwQ', 'YI6hgwq', 'YI6HGWQ', 'YI6HGWq', 'YI6HGwQ', 'YI6HGwq', 'YI6HgWQ', 'YI6HgWq', 'YI6HgwQ', 'YI6Hgwq', 'YI6hGWQ', 'YI6hGWq', 'YI6hGwQ', 'YI6hGwq', 'YI6hgWQ', 'YI6hgWq', 'YI6hgwQ', 'YI6hgwq', 'Yi6HGWQ', 'Yi6HGWq', 'Yi6HGwQ', 'Yi6HGwq', 'Yi6HgWQ', 'Yi6HgWq', 'Yi6HgwQ', 'Yi6Hgwq', 'Yi6hGWQ', 'Yi6hGWq', 'Yi6hGwQ', 'Yi6hGwq', 'Yi6hgWQ', 'Yi6hgWq', 'Yi6hgwQ', 'Yi6hgwq', 'Yi6HGWQ', 'Yi6HGWq', 'Yi6HGwQ', 'Yi6HGwq', 'Yi6HgWQ', 'Yi6HgWq', 'Yi6HgwQ', 'Yi6Hgwq', 'Yi6hGWQ', 'Yi6hGWq', 'Yi6hGwQ', 'Yi6hGwq', 'Yi6hgWQ', 'Yi6hgWq', 'Yi6hgwQ', 'Yi6hgwq', 'yI6HGWQ', 'yI6HGWq', 'yI6HGwQ', 'yI6HGwq', 'yI6HgWQ', 'yI6HgWq', 'yI6HgwQ', 'yI6Hgwq', 'yI6hGWQ', 'yI6hGWq', 'yI6hGwQ', 'yI6hGwq', 'yI6hgWQ', 'yI6hgWq', 'yI6hgwQ', 'yI6hgwq', 'yI6HGWQ', 'yI6HGWq', 'yI6HGwQ', 'yI6HGwq', 'yI6HgWQ', 'yI6HgWq', 'yI6HgwQ', 'yI6Hgwq', 'yI6hGWQ', 'yI6hGWq', 'yI6hGwQ', 'yI6hGwq', 'yI6hgWQ', 'yI6hgWq', 'yI6hgwQ', 'yI6hgwq', 'yi6HGWQ', 'yi6HGWq', 'yi6HGwQ', 'yi6HGwq', 'yi6HgWQ', 'yi6HgWq', 'yi6HgwQ', 'yi6Hgwq', 'yi6hGWQ', 'yi6hGWq', 'yi6hGwQ', 'yi6hGwq', 'yi6hgWQ', 'yi6hgWq', 'yi6hgwQ', 'yi6hgwq', 'yi6HGWQ', 'yi6HGWq', 'yi6HGwQ', 'yi6HGwq', 'yi6HgWQ', 'yi6HgWq', 'yi6HgwQ', 'yi6Hgwq', 'yi6hGWQ', 'yi6hGWq', 'yi6hGwQ', 'yi6hGwq', 'yi6hgWQ', 'yi6hgWq', 'yi6hgwQ', 'yi6hgwq']\n"
     ]
    }
   ],
   "source": [
    "import itertools\n",
    "\n",
    "url = \"https://www.pastebin.com/\"\n",
    "\n",
    "s = 'YI6HGWQ'\n",
    "ma = list(map(''.join, itertools.product(*zip(s.upper(), s.lower()))))\n",
    "\n",
    "print(ma)\n",
    "\n",
    "\n",
    "test = \"0123456789abcdefghijklmnopqrstuvwxyzABCDEFGHIJKLMNOPQRSTUVWXYZ\"\n",
    "lst= []\n",
    "\n",
    "for x in test:\n",
    "    for y in ma:\n",
    "        lst.append(url + y + x)"
   ]
  },
  {
   "cell_type": "code",
   "execution_count": 6,
   "metadata": {},
   "outputs": [],
   "source": [
    "import requests\n",
    "import webbrowser\n",
    "from bs4 import BeautifulSoup\n",
    "s = requests.Session()\n",
    "# s.headers.update({'User-Agent': 'ia_archiver'})"
   ]
  },
  {
   "cell_type": "code",
   "execution_count": null,
   "metadata": {},
   "outputs": [],
   "source": [
    "for link in lst:\n",
    "    response = s.get(link)\n",
    "    soup = BeautifulSoup(response.content, 'lxml')\n",
    "    if 'This page is no longer available. It has either expired, been removed by its creator, or removed by one of the Pastebin staff.' not in soup:\n",
    "        print(soup)\n",
    "        print(link)\n",
    "        webbrowser.open(link, new=0, autoraise=True)"
   ]
  }
 ],
 "metadata": {
  "kernelspec": {
   "display_name": "Python 3 (ipykernel)",
   "language": "python",
   "name": "python3"
  },
  "language_info": {
   "codemirror_mode": {
    "name": "ipython",
    "version": 3
   },
   "file_extension": ".py",
   "mimetype": "text/x-python",
   "name": "python",
   "nbconvert_exporter": "python",
   "pygments_lexer": "ipython3",
   "version": "3.11.8"
  }
 },
 "nbformat": 4,
 "nbformat_minor": 2
}
